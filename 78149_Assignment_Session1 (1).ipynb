{
 "cells": [
  {
   "cell_type": "markdown",
   "metadata": {},
   "source": [
    "1) After running the following code, what does the variable bacon contain?\n",
    "\n",
    "bacon = 22\n",
    "\n",
    "bacon + 1\n",
    "ANS: bacon contains 23"
   ]
  },
  {
   "cell_type": "markdown",
   "metadata": {},
   "source": [
    "2) What should the values of the following two terms be?\n",
    "\n",
    "'spam' + 'spamspam'\n",
    "Ans:'spamspamspam'\n",
    "\n",
    "'spam' * 3\n",
    "Ans:'spamspamspam'"
   ]
  },
  {
   "cell_type": "markdown",
   "metadata": {},
   "source": [
    "3) How can you tell the difference between break and continue?\n",
    "Ans:Break statement is encountered then the loop is terminated there itself and the preciding itterations are skipped.Where, if a continue statement is encountered only that itteration is skipped and it moves to the begining of the loop for the next itteration."
   ]
  },
  {
   "cell_type": "markdown",
   "metadata": {},
   "source": [
    "4) In a for loop, what is the difference between range(10), range(0, 10), and range (0, 10, 1)?\n",
    "There is absolutely no difference between the 3 range statements. "
   ]
  },
  {
   "cell_type": "markdown",
   "metadata": {},
   "source": [
    "5) Using a for loop, write a short programme that prints the numbers 1 to 10 Then, using a while loop, create an identical programme that prints the numbers 1 to 10.\n",
    "1st:\n",
    "a=range (0, 10, 1)\n",
    "for i in a:\n",
    "    print(i+1)\n",
    "2nd:\n",
    "i=0\n",
    "while i<10:\n",
    "    print(i+1)\n",
    "    i=i+1"
   ]
  },
  {
   "cell_type": "markdown",
   "metadata": {},
   "source": [
    "6) Given a number x, determine whether the given number is Armstrong number or not.\n",
    "\n",
    "Input : 153\n",
    "\n",
    "Output : Yes\n",
    "\n",
    "153 is an Armstrong number.\n",
    "\n",
    "1 * 1 * 1 + 5 * 5 * 5 + 3 * 3 * 3 = 153\n",
    "Ans:\n",
    "n=int(input())\n",
    "sum=0\n",
    "temp=n\n",
    "while temp>0:\n",
    "    r=temp%10\n",
    "    sum=sum+r*r*r\n",
    "    temp=int(temp/10)\n",
    "if n==sum:\n",
    "    print(\"yes\")\n",
    "else:\n",
    "    print(\"no\")"
   ]
  },
  {
   "cell_type": "markdown",
   "metadata": {},
   "source": [
    "7) Program to find Sum of squares of first n natural numbers.\n",
    "n=int(input())\n",
    "sum=0\n",
    "if n>0:\n",
    "    for i in range(1,n+1):\n",
    "        sum=sum+i*i\n",
    "    print(sum)\n",
    "else:\n",
    "    print(\"n is not a natural number\")\n"
   ]
  },
  {
   "cell_type": "markdown",
   "metadata": {},
   "source": [
    "8) Program to Reverse words in a given String in Python.\n",
    "s=input()\n",
    "r=''\n",
    "for i in range(len(s)-1,-1,-1):\n",
    "    r=r+s[i]\n",
    "print(r)"
   ]
  },
  {
   "cell_type": "markdown",
   "metadata": {},
   "source": [
    "9) Given a list of numbers, write a Python program to find the sum of all the elements in the list.\n",
    "\n",
    "Input: [10,12,13]\n",
    "\n",
    "Output: 35\n",
    "l= [10,12,13]\n",
    "sum=0\n",
    "for i in l:\n",
    "    sum=sum+i\n",
    "print(sum)"
   ]
  },
  {
   "cell_type": "markdown",
   "metadata": {},
   "source": [
    "10) Write a Python program to print all even numbers between 10-1000.\n",
    "for i in range(10,1001):\n",
    "    if i%2==0:\n",
    "        print(i)\n",
    "    else:\n",
    "        continue"
   ]
  }
 ],
 "metadata": {
  "kernelspec": {
   "display_name": "Python 3",
   "language": "python",
   "name": "python3"
  },
  "language_info": {
   "codemirror_mode": {
    "name": "ipython",
    "version": 3
   },
   "file_extension": ".py",
   "mimetype": "text/x-python",
   "name": "python",
   "nbconvert_exporter": "python",
   "pygments_lexer": "ipython3",
   "version": "3.8.8"
  }
 },
 "nbformat": 4,
 "nbformat_minor": 2
}
